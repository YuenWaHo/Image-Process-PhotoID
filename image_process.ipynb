{
 "cells": [
  {
   "cell_type": "code",
   "execution_count": null,
   "metadata": {},
   "outputs": [],
   "source": [
    "pip install -r requirements.txt"
   ]
  },
  {
   "cell_type": "code",
   "execution_count": 2,
   "metadata": {},
   "outputs": [
    {
     "name": "stdout",
     "output_type": "stream",
     "text": [
      "Renamed 162 images.\n"
     ]
    }
   ],
   "source": [
    "from photoid_process import ImagePreprocess\n",
    "\n",
    "# Define your parameters\n",
    "STUDY_SITE = \"HongKong\"\n",
    "GROUP_ID = \"01\"\n",
    "image_folder = \"/Volumes/Derek/Research/Analysis/Python/Dolphin_image/data/test-hongkong\"\n",
    "format_string = \"{image_id}_{date_time}_{STUDY_SITE}_{GROUP_ID}_{frame_number}.jpg\"\n",
    "\n",
    "preprocessor = ImagePreprocess(study_site=STUDY_SITE, group_id=GROUP_ID)\n",
    "preprocessor.rename_images(image_folder, format_string)\n"
   ]
  },
  {
   "cell_type": "code",
   "execution_count": null,
   "metadata": {},
   "outputs": [],
   "source": [
    "### Set Directory\n",
    "model = YOLO('/Volumes/Derek/Research/Analysis/Python/Dolphin_image/sousa_dorsal_fin.pt')\n",
    "input_dir = \"/Volumes/Derek/Research/Analysis/Python/Dolphin_image/data/test-hongkong/\"\n",
    "output_dir = os.path.join(input_dir, 'Cropped')\n",
    "non_cropped_output_dir = os.path.join(input_dir, 'Uncropped')"
   ]
  },
  {
   "cell_type": "code",
   "execution_count": null,
   "metadata": {},
   "outputs": [],
   "source": []
  }
 ],
 "metadata": {
  "kernelspec": {
   "display_name": "venv",
   "language": "python",
   "name": "python3"
  },
  "language_info": {
   "codemirror_mode": {
    "name": "ipython",
    "version": 3
   },
   "file_extension": ".py",
   "mimetype": "text/x-python",
   "name": "python",
   "nbconvert_exporter": "python",
   "pygments_lexer": "ipython3",
   "version": "3.9.6"
  }
 },
 "nbformat": 4,
 "nbformat_minor": 2
}
